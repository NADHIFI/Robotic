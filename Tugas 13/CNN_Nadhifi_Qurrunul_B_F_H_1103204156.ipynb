{
  "nbformat": 4,
  "nbformat_minor": 0,
  "metadata": {
    "colab": {
      "provenance": []
    },
    "kernelspec": {
      "name": "python3",
      "display_name": "Python 3"
    },
    "language_info": {
      "name": "python"
    }
  },
  "cells": [
    {
      "cell_type": "markdown",
      "source": [
        "# Neural Network Using Fashion MNIST\n",
        "Nama  : Nadhifi Qurrunul B F H\n",
        "\n",
        "Nim   : 1103204156"
      ],
      "metadata": {
        "id": "LRqTMO6E3rl-"
      }
    },
    {
      "cell_type": "markdown",
      "source": [
        "Berikut adalah contoh sederhana code CNN (Convolutional Neural Network) dalam sebuah notebook di Kaggle. Code ini menggunakan dataset Fashion MNIST, sebuah dataset gambar yang sering digunakan untuk latihan dalam pengembangan model CNN."
      ],
      "metadata": {
        "id": "n2phl2iUEAbV"
      }
    },
    {
      "cell_type": "code",
      "execution_count": 8,
      "metadata": {
        "id": "oX0ZiLfM3jPz"
      },
      "outputs": [],
      "source": [
        "# Import libraries\n",
        "import numpy as np\n",
        "import pandas as pd\n",
        "import matplotlib.pyplot as plt\n",
        "from sklearn.model_selection import train_test_split\n",
        "from keras.utils import to_categorical\n",
        "from keras.models import Sequential\n",
        "from keras.layers import Conv2D, MaxPooling2D, Flatten, Dense"
      ]
    },
    {
      "cell_type": "code",
      "source": [
        "# Load the Fashion MNIST dataset from Keras\n",
        "from keras.datasets import fashion_mnist\n",
        "(x_train, y_train), (x_test, y_test) = fashion_mnist.load_data()"
      ],
      "metadata": {
        "colab": {
          "base_uri": "https://localhost:8080/"
        },
        "id": "oRudY4nJ3-lX",
        "outputId": "45c85ef3-9a6a-4198-eba1-407fbe5553cc"
      },
      "execution_count": 9,
      "outputs": [
        {
          "output_type": "stream",
          "name": "stdout",
          "text": [
            "Downloading data from https://storage.googleapis.com/tensorflow/tf-keras-datasets/train-labels-idx1-ubyte.gz\n",
            "29515/29515 [==============================] - 0s 0us/step\n",
            "Downloading data from https://storage.googleapis.com/tensorflow/tf-keras-datasets/train-images-idx3-ubyte.gz\n",
            "26421880/26421880 [==============================] - 0s 0us/step\n",
            "Downloading data from https://storage.googleapis.com/tensorflow/tf-keras-datasets/t10k-labels-idx1-ubyte.gz\n",
            "5148/5148 [==============================] - 0s 0us/step\n",
            "Downloading data from https://storage.googleapis.com/tensorflow/tf-keras-datasets/t10k-images-idx3-ubyte.gz\n",
            "4422102/4422102 [==============================] - 0s 0us/step\n"
          ]
        }
      ]
    },
    {
      "cell_type": "markdown",
      "source": [
        "* Mengimpor library yang diperlukan, seperti NumPy, Pandas, dan Keras.\n",
        "* Memuat dataset Fashion MNIST menggunakan modul fashion_mnist dari Keras."
      ],
      "metadata": {
        "id": "PEfBzdOpErBW"
      }
    },
    {
      "cell_type": "code",
      "source": [
        "# Preprocess the data\n",
        "x_train = x_train.reshape((x_train.shape[0], 28, 28, 1)).astype('float32') / 255\n",
        "x_test = x_test.reshape((x_test.shape[0], 28, 28, 1)).astype('float32') / 255"
      ],
      "metadata": {
        "id": "xXw5jmDM3-y-"
      },
      "execution_count": 10,
      "outputs": []
    },
    {
      "cell_type": "code",
      "source": [
        "y_train = to_categorical(y_train)\n",
        "y_test = to_categorical(y_test)"
      ],
      "metadata": {
        "id": "0pNZsAmrDimd"
      },
      "execution_count": 11,
      "outputs": []
    },
    {
      "cell_type": "markdown",
      "source": [
        "* Menyusun ulang dimensi data untuk sesuai dengan input CNN.\n",
        "* Melakukan normalisasi data (scaling) agar nilai pixel berada dalam rentang 0-1.\n",
        "* Mengonversi label kategori menjadi bentuk one-hot encoding menggunakan to_categorical."
      ],
      "metadata": {
        "id": "w2NuPQEnE3uO"
      }
    },
    {
      "cell_type": "code",
      "source": [
        "# Build the CNN model\n",
        "model = Sequential()\n",
        "model.add(Conv2D(32, (3, 3), activation='relu', input_shape=(28, 28, 1)))\n",
        "model.add(MaxPooling2D((2, 2)))\n",
        "model.add(Conv2D(64, (3, 3), activation='relu'))\n",
        "model.add(MaxPooling2D((2, 2)))\n",
        "model.add(Conv2D(64, (3, 3), activation='relu'))\n",
        "model.add(Flatten())\n",
        "model.add(Dense(64, activation='relu'))\n",
        "model.add(Dense(10, activation='softmax'))"
      ],
      "metadata": {
        "id": "xutQOI57Divz"
      },
      "execution_count": 12,
      "outputs": []
    },
    {
      "cell_type": "markdown",
      "source": [
        "* Membangun model CNN menggunakan Keras Sequential API.\n",
        "* Menambahkan layer Convolutional (Conv2D) dengan aktivasi ReLU.\n",
        "* Menambahkan layer MaxPooling untuk mengurangi dimensi spasial.\n",
        "* Menggunakan Flatten untuk meratakan output sebelum menghubungkannya ke layer Dense.\n",
        "* Menambahkan layer Dense dengan aktivasi ReLU.\n",
        "* Output layer menggunakan softmax untuk klasifikasi multikelas."
      ],
      "metadata": {
        "id": "dRCVJSs9FGX4"
      }
    },
    {
      "cell_type": "code",
      "source": [
        "# Compile the model\n",
        "model.compile(optimizer='adam', loss='categorical_crossentropy', metrics=['accuracy'])"
      ],
      "metadata": {
        "id": "7NW1FEckDi4L"
      },
      "execution_count": 13,
      "outputs": []
    },
    {
      "cell_type": "markdown",
      "source": [
        "Mengompilasi model dengan optimizer Adam, loss function categorical crossentropy, dan metrik akurasi."
      ],
      "metadata": {
        "id": "eDvPztc3FP8X"
      }
    },
    {
      "cell_type": "code",
      "source": [
        "# Train the model\n",
        "model.fit(x_train, y_train, epochs=10, batch_size=64, validation_split=0.2)"
      ],
      "metadata": {
        "colab": {
          "base_uri": "https://localhost:8080/"
        },
        "id": "QB1ztOUoDjAS",
        "outputId": "c40ce97c-696f-4695-f67d-09d86cbed2ae"
      },
      "execution_count": 14,
      "outputs": [
        {
          "output_type": "stream",
          "name": "stdout",
          "text": [
            "Epoch 1/10\n",
            "750/750 [==============================] - 48s 61ms/step - loss: 0.5893 - accuracy: 0.7846 - val_loss: 0.4094 - val_accuracy: 0.8537\n",
            "Epoch 2/10\n",
            "750/750 [==============================] - 46s 61ms/step - loss: 0.3696 - accuracy: 0.8652 - val_loss: 0.3514 - val_accuracy: 0.8712\n",
            "Epoch 3/10\n",
            "750/750 [==============================] - 43s 58ms/step - loss: 0.3128 - accuracy: 0.8855 - val_loss: 0.3130 - val_accuracy: 0.8842\n",
            "Epoch 4/10\n",
            "750/750 [==============================] - 43s 57ms/step - loss: 0.2786 - accuracy: 0.8998 - val_loss: 0.2895 - val_accuracy: 0.8942\n",
            "Epoch 5/10\n",
            "750/750 [==============================] - 47s 62ms/step - loss: 0.2544 - accuracy: 0.9067 - val_loss: 0.2969 - val_accuracy: 0.8923\n",
            "Epoch 6/10\n",
            "750/750 [==============================] - 47s 63ms/step - loss: 0.2353 - accuracy: 0.9139 - val_loss: 0.2638 - val_accuracy: 0.9030\n",
            "Epoch 7/10\n",
            "750/750 [==============================] - 45s 60ms/step - loss: 0.2183 - accuracy: 0.9203 - val_loss: 0.2532 - val_accuracy: 0.9086\n",
            "Epoch 8/10\n",
            "750/750 [==============================] - 47s 63ms/step - loss: 0.1998 - accuracy: 0.9261 - val_loss: 0.2571 - val_accuracy: 0.9089\n",
            "Epoch 9/10\n",
            "750/750 [==============================] - 46s 61ms/step - loss: 0.1853 - accuracy: 0.9317 - val_loss: 0.2679 - val_accuracy: 0.9062\n",
            "Epoch 10/10\n",
            "750/750 [==============================] - 44s 59ms/step - loss: 0.1741 - accuracy: 0.9369 - val_loss: 0.2446 - val_accuracy: 0.9116\n"
          ]
        },
        {
          "output_type": "execute_result",
          "data": {
            "text/plain": [
              "<keras.src.callbacks.History at 0x7e5e30a23280>"
            ]
          },
          "metadata": {},
          "execution_count": 14
        }
      ]
    },
    {
      "cell_type": "markdown",
      "source": [
        "Melatih model pada data latih dengan 10 epochs, batch size 64, dan validasi menggunakan 20% data latih."
      ],
      "metadata": {
        "id": "9K7fI3ekFUom"
      }
    },
    {
      "cell_type": "code",
      "source": [
        "# Evaluate the model\n",
        "test_loss, test_acc = model.evaluate(x_test, y_test)\n",
        "print(f'Test Accuracy: {test_acc}')"
      ],
      "metadata": {
        "colab": {
          "base_uri": "https://localhost:8080/"
        },
        "id": "EG5GmqqTDxKw",
        "outputId": "58266dfd-db20-489f-c829-d56b9f4dda63"
      },
      "execution_count": 15,
      "outputs": [
        {
          "output_type": "stream",
          "name": "stdout",
          "text": [
            "313/313 [==============================] - 3s 9ms/step - loss: 0.2584 - accuracy: 0.9087\n",
            "Test Accuracy: 0.9086999893188477\n"
          ]
        }
      ]
    },
    {
      "cell_type": "markdown",
      "source": [
        "Mengevaluasi model pada data uji dan mencetak akurasi hasil evaluasi.\n",
        "\n",
        "\n",
        "\n",
        "\n",
        "\n"
      ],
      "metadata": {
        "id": "yQBfeVUpFW_u"
      }
    }
  ]
}